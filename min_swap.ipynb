{
 "cells": [
  {
   "cell_type": "code",
   "execution_count": 4,
   "metadata": {},
   "outputs": [],
   "source": [
    "# Imports\n",
    "import qiskit\n"
   ]
  },
  {
   "cell_type": "code",
   "execution_count": 41,
   "metadata": {},
   "outputs": [
    {
     "name": "stdout",
     "output_type": "stream",
     "text": [
      "[Qubit(QuantumRegister(16, 'q'), 0), Qubit(QuantumRegister(16, 'q'), 2)]\n",
      "2\n",
      "2\n"
     ]
    },
    {
     "name": "stderr",
     "output_type": "stream",
     "text": [
      "<ipython-input-41-29ef09a3f1c9>:8: DeprecationWarning: The property ``qiskit.circuit.bit.Bit.index`` is deprecated as of qiskit-terra 0.17. It will be removed no earlier than 3 months after the release date. Instead, use :meth:`~qiskit.circuit.quantumcircuit.QuantumCircuit.find_bit` to find all the containing registers within a circuit and the index of the bit within the circuit.\n",
      "  print(qc.data[1][1][1].index)\n"
     ]
    }
   ],
   "source": [
    "# Set up the circuit\n",
    "path = \"test_circuits/3_17_13.qasm\"\n",
    "\n",
    "qc = qiskit.QuantumCircuit.from_qasm_file(path)\n",
    "#qc.draw()\n",
    "print(qc.data[1][1])\n",
    "print(len(qc.data[1][1]))\n",
    "print(qc.data[1][1][1].index)\n"
   ]
  },
  {
   "cell_type": "code",
   "execution_count": null,
   "metadata": {},
   "outputs": [],
   "source": [
    "# Go through the quantum circuit and make a list of all the qubits that need to be entangled, in order\n",
    "\n",
    "print(qc.data[1][1])\n",
    "print(len(qc.data[1][1]))\n",
    "print(qc.data[1][1][1].index)"
   ]
  }
 ],
 "metadata": {
  "kernelspec": {
   "display_name": "base",
   "language": "python",
   "name": "python3"
  },
  "language_info": {
   "codemirror_mode": {
    "name": "ipython",
    "version": 3
   },
   "file_extension": ".py",
   "mimetype": "text/x-python",
   "name": "python",
   "nbconvert_exporter": "python",
   "pygments_lexer": "ipython3",
   "version": "3.8.8"
  },
  "orig_nbformat": 4
 },
 "nbformat": 4,
 "nbformat_minor": 2
}
