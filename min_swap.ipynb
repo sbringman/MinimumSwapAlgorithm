{
 "cells": [
  {
   "cell_type": "code",
   "execution_count": 1,
   "metadata": {},
   "outputs": [
    {
     "data": {
      "text/plain": [
       "<module 'min_swap_functions' from '/Users/sambringman/Documents/GitHub/MinimumSwapAlgorithm/min_swap_functions.py'>"
      ]
     },
     "execution_count": 1,
     "metadata": {},
     "output_type": "execute_result"
    }
   ],
   "source": [
    "# Imports\n",
    "import qiskit\n",
    "import networkx as nx\n",
    "import min_swap_functions as msf\n",
    "import importlib\n",
    "importlib.reload(msf)\n"
   ]
  },
  {
   "cell_type": "code",
   "execution_count": 2,
   "metadata": {},
   "outputs": [],
   "source": [
    "# Set up the circuit\n",
    "path = \"test_circuits/3_17_13.qasm\"\n",
    "\n",
    "qc = qiskit.QuantumCircuit.from_qasm_file(path)\n",
    "qc.draw()\n",
    "\n",
    "# Set up the lattice\n",
    "width = 4\n",
    "height = 4\n",
    "\n",
    "grid = True\n",
    "hex = False\n",
    "\n",
    "if grid == True:\n",
    "    lattice = nx.grid_2d_graph(width, height)\n",
    "\n",
    "    lattice = msf.add_node_details_grid(lattice, width, height)\n",
    "elif hex == True:\n",
    "    lattice = nx.hexagonal_lattice_graph(width, height)\n",
    "    lattice = msf.add_node_details_hex(lattice)\n",
    "else:\n",
    "    print(\"No graph type chosen\")\n",
    "\n",
    "\n"
   ]
  },
  {
   "cell_type": "code",
   "execution_count": 3,
   "metadata": {},
   "outputs": [
    {
     "name": "stdout",
     "output_type": "stream",
     "text": [
      "List of entanglements in order:\n",
      "\t[(0, 2), (2, 1), (2, 1), (0, 2), (1, 0), (1, 2), (0, 2), (1, 0), (2, 1), (1, 0), (2, 1), (0, 2), (0, 1), (2, 1), (0, 2), (1, 0), (1, 2)]\n",
      "\n",
      "Qubits: [0, 1, 2]\n"
     ]
    },
    {
     "name": "stderr",
     "output_type": "stream",
     "text": [
      "<ipython-input-3-9869ee009d25>:4: DeprecationWarning: The property ``qiskit.circuit.bit.Bit.index`` is deprecated as of qiskit-terra 0.17. It will be removed no earlier than 3 months after the release date. Instead, use :meth:`~qiskit.circuit.quantumcircuit.QuantumCircuit.find_bit` to find all the containing registers within a circuit and the index of the bit within the circuit.\n",
      "  entangle_list = [(gate[1][0].index, gate[1][1].index) for gate in qc.data if len(gate[1]) == 2]\n"
     ]
    }
   ],
   "source": [
    "# Go through the quantum circuit and make a list of all the qubits that need to be entangled, in order\n",
    "\n",
    "# Short form - each entry is one of the gates of the circuit\n",
    "entangle_list = [(gate[1][0].index, gate[1][1].index) for gate in qc.data if len(gate[1]) == 2]\n",
    "\n",
    "# Long form\n",
    "\"\"\"\n",
    "single_q = 0\n",
    "double_q = 0\n",
    "triple_q = 0\n",
    "entangle_list = []\n",
    "\n",
    "for gate in qc.data:\n",
    "    if len(gate[1]) == 1:\n",
    "        single_q += 1\n",
    "    elif len(gate[1]) == 2:\n",
    "        double_q += 1\n",
    "        entangle_list.append((gate[1][0].index, gate[1][1].index))\n",
    "    elif len(gate[1]) == 3:\n",
    "        triple_q += 1\n",
    "    else:\n",
    "        print(\"Error, gate larger than 3 qubits\")\n",
    "\"\"\"\n",
    "\n",
    "print(f\"List of entanglements in order:\\n\\t{entangle_list}\")\n",
    "\n",
    "# Gets a list of qubits\n",
    "max_qubit1 = max(qubit1 for qubit1, qubit2 in entangle_list)\n",
    "max_qubit2 = max(qubit2 for qubit1, qubit2 in entangle_list)\n",
    "num_qubits = max(max_qubit1, max_qubit2) + 1\n",
    "qubits = [i for i in range(num_qubits)]\n",
    "print(f\"\\nQubits: {qubits}\")"
   ]
  },
  {
   "cell_type": "code",
   "execution_count": 4,
   "metadata": {},
   "outputs": [],
   "source": [
    "# Place qubits on the graph\n",
    "lattice = msf.map_qubits(lattice, qubits, entangle_list)"
   ]
  },
  {
   "cell_type": "code",
   "execution_count": 5,
   "metadata": {},
   "outputs": [
    {
     "data": {
      "image/png": "[encoded data removed]",
      "text/plain": [
       "<Figure size 432x288 with 1 Axes>"
      ]
     },
     "metadata": {},
     "output_type": "display_data"
    }
   ],
   "source": [
    "# Display the placement\n",
    "sizes = list(lattice.nodes[i]['size'] for i in lattice.nodes())\n",
    "colors = list(lattice.nodes[i]['color'] for i in lattice.nodes())\n",
    "labels = {i: lattice.nodes[i]['qubit'] for i in lattice.nodes()}\n",
    "nx.draw_networkx(lattice, pos=lattice.nodes.data('pos'), node_size=sizes, node_color=colors, labels=labels)\n"
   ]
  },
  {
   "cell_type": "code",
   "execution_count": 6,
   "metadata": {},
   "outputs": [],
   "source": [
    "# Swap qubits"
   ]
  },
  {
   "cell_type": "code",
   "execution_count": null,
   "metadata": {},
   "outputs": [],
   "source": []
  }
 ],
 "metadata": {
  "kernelspec": {
   "display_name": "Python 3",
   "language": "python",
   "name": "python3"
  },
  "language_info": {
   "codemirror_mode": {
    "name": "ipython",
    "version": 3
   },
   "file_extension": ".py",
   "mimetype": "text/x-python",
   "name": "python",
   "nbconvert_exporter": "python",
   "pygments_lexer": "ipython3",
   "version": "3.8.8"
  }
 },
 "nbformat": 4,
 "nbformat_minor": 2
}
